{
 "cells": [
  {
   "cell_type": "code",
   "execution_count": 1,
   "metadata": {},
   "outputs": [],
   "source": [
    "import numpy as np"
   ]
  },
  {
   "cell_type": "code",
   "execution_count": 4,
   "metadata": {},
   "outputs": [],
   "source": [
    "def calculate(list_):\n",
    "    if len(list_) != 9:\n",
    "        raise ValueError('List must contain nine numbers')\n",
    "    array_ = np.array(list_).reshape(3,3)\n",
    "\n",
    "    mean_ax0 = np.mean(array_, axis = 0)\n",
    "    mean_ax1 = np.mean(array_, axis = 1)\n",
    "    mean_all = np.mean(array_)\n",
    "\n",
    "    var_a0 = np.var(array_, axis = 0)\n",
    "    var_a1 = np.var(array_, axis = 1)\n",
    "    var_al = np.var(array_)\n",
    "\n",
    "    var_ax0 = np.around(var_a0, decimals= 3)\n",
    "    var_ax1 = np.around(var_a1, decimals= 3)\n",
    "    var_all = np.around(var_al, decimals= 3)\n",
    "\n",
    "\n",
    "    std_a0 = np.std(array_, axis = 0)\n",
    "    std_a1 = np.std(array_, axis = 1)\n",
    "    std_al = np.std(array_)\n",
    "\n",
    "    std_ax0 = np.around(std_a0, decimals= 3)\n",
    "    std_ax1 = np.around(std_a1,decimals= 3)\n",
    "    std_all = np.around(std_al, decimals= 3)\n",
    "\n",
    "    max_ax0 = np.max(array_, axis = 0)\n",
    "    max_ax1 = np.max(array_, axis = 1)\n",
    "    max_all = np.max(array_)\n",
    "\n",
    "    min_ax0 = np.min(array_, axis = 0)\n",
    "    min_ax1 = np.min(array_, axis = 1)\n",
    "    min_all = np.min(array_)\n",
    "\n",
    "    sum_ax0 = np.sum(array_, axis = 0)\n",
    "    sum_ax1 = np.sum(array_, axis = 1)\n",
    "    sum_all = np.sum(array_)\n",
    "\n",
    "    return {'mean': [mean_ax0.tolist(), mean_ax1.tolist(), float(mean_all)],\n",
    "            'variance': [var_ax0.tolist(), var_ax1.tolist(), float(var_all)],\n",
    "            'standard_deviation': [std_ax0.tolist(), std_ax1.tolist(), float(std_all)],\n",
    "            'max': [max_ax0.tolist(), max_ax1.tolist(), float(max_all)],\n",
    "            'min': [min_ax0.tolist(), min_ax1.tolist(), float(min_all)],\n",
    "            'sum': [sum_ax0.tolist(), sum_ax1.tolist(), float(sum_all)]}"
   ]
  }
 ],
 "metadata": {
  "kernelspec": {
   "display_name": "Python 3",
   "language": "python",
   "name": "python3"
  },
  "language_info": {
   "codemirror_mode": {
    "name": "ipython",
    "version": 3
   },
   "file_extension": ".py",
   "mimetype": "text/x-python",
   "name": "python",
   "nbconvert_exporter": "python",
   "pygments_lexer": "ipython3",
   "version": "3.12.1"
  }
 },
 "nbformat": 4,
 "nbformat_minor": 2
}
